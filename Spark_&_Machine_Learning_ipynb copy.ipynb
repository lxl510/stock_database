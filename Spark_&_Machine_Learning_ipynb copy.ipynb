{
  "cells": [
    {
      "cell_type": "code",
      "execution_count": null,
      "metadata": {
        "colab": {
          "base_uri": "https://localhost:8080/"
        },
        "id": "MHmH3wQqcBV7",
        "outputId": "67305fb6-deb5-4119-8c00-a1d15232ae0c"
      },
      "outputs": [
        {
          "output_type": "stream",
          "name": "stdout",
          "text": [
            "Looking in indexes: https://pypi.org/simple, https://us-python.pkg.dev/colab-wheels/public/simple/\n",
            "Requirement already satisfied: pyspark in /usr/local/lib/python3.10/dist-packages (3.4.0)\n",
            "Requirement already satisfied: py4j==0.10.9.7 in /usr/local/lib/python3.10/dist-packages (from pyspark) (0.10.9.7)\n"
          ]
        }
      ],
      "source": [
        "!pip install pyspark"
      ]
    },
    {
      "cell_type": "code",
      "execution_count": null,
      "metadata": {
        "id": "eqQY10CV3Gvk"
      },
      "outputs": [],
      "source": [
        "# Libraies used\n",
        "import pyspark\n",
        "from pyspark.sql import SparkSession\n",
        "from pyspark import SparkContext, SparkConf\n",
        "from pyspark.sql import SQLContext\n",
        "import pandas as pd\n",
        "import matplotlib as mpl\n",
        "import matplotlib.pyplot as plt"
      ]
    },
    {
      "cell_type": "code",
      "execution_count": null,
      "metadata": {
        "id": "w_kWa15bcDul"
      },
      "outputs": [],
      "source": [
        "# Reference Module 10\n",
        "# Make sure python and driver version NOT mismatch\n",
        "import os\n",
        "import sys\n",
        "os.environ['PYSPARK_PYTHON'] = sys.executable\n",
        "os.environ['PYSPARK_DRIVER_PYTHON'] = sys.executable"
      ]
    },
    {
      "cell_type": "code",
      "execution_count": null,
      "metadata": {
        "colab": {
          "base_uri": "https://localhost:8080/"
        },
        "id": "CvCsNBI8cFhB",
        "outputId": "e0a8b3f5-2336-49f1-82f3-df16b5229839"
      },
      "outputs": [
        {
          "output_type": "stream",
          "name": "stdout",
          "text": [
            "Using Apache Spark Version 3.4.0\n"
          ]
        }
      ],
      "source": [
        "spark = SparkSession.builder.getOrCreate()\n",
        "sc = spark.sparkContext\n",
        "\n",
        "print(\"Using Apache Spark Version\", spark.version)"
      ]
    },
    {
      "cell_type": "code",
      "execution_count": null,
      "metadata": {
        "id": "YwjdoWxvc0WM",
        "colab": {
          "base_uri": "https://localhost:8080/"
        },
        "outputId": "6e5939c8-5c65-4fd8-9189-ae8f9b459223"
      },
      "outputs": [
        {
          "output_type": "stream",
          "name": "stdout",
          "text": [
            "Drive already mounted at /content/drive; to attempt to forcibly remount, call drive.mount(\"/content/drive\", force_remount=True).\n"
          ]
        }
      ],
      "source": [
        "# Google drive path\n",
        "\n",
        "from google.colab import drive\n",
        "drive.mount('/content/drive')\n",
        "\n",
        "news_file = \"/content/drive/MyDrive/clean_AAPL.csv\""
      ]
    },
    {
      "cell_type": "code",
      "execution_count": null,
      "metadata": {
        "id": "6hKe0qhhcI3r"
      },
      "outputs": [],
      "source": [
        "# news_file = \"/content/drive/MyDrive/clean_AAPL.csv\""
      ]
    },
    {
      "cell_type": "code",
      "execution_count": null,
      "metadata": {
        "id": "OeL-xIW4-Urd",
        "colab": {
          "base_uri": "https://localhost:8080/"
        },
        "outputId": "427a54bc-46a3-4c99-adf2-1bb85010419a"
      },
      "outputs": [
        {
          "output_type": "execute_result",
          "data": {
            "text/plain": [
              "4838"
            ]
          },
          "metadata": {},
          "execution_count": 23
        }
      ],
      "source": [
        "# Reference Module 10\n",
        "\n",
        "# data = spark.read.csv(\"/content/drive/MyDrive/clean_AAPL.csv\", header=True, inferSchema=True)\n",
        "\n",
        "# Read data into spark dataframe\n",
        "data = spark.read.format(\"csv\") \\\n",
        "               .options(header='true', inferschema='true', treatEmptyValuesAsNulls='true') \\\n",
        "               .load(f\"{news_file}\")\n",
        "\n",
        "# Count number of row \n",
        "data.count()"
      ]
    },
    {
      "cell_type": "code",
      "execution_count": null,
      "metadata": {
        "id": "EaE4IKtYcNU-",
        "colab": {
          "base_uri": "https://localhost:8080/"
        },
        "outputId": "fd4c72d8-2c84-4eb2-b52f-8b5a4ebb9985"
      },
      "outputs": [
        {
          "output_type": "stream",
          "name": "stdout",
          "text": [
            "+----------+--------------------+--------------------+\n",
            "|      date|               title|                body|\n",
            "+----------+--------------------+--------------------+\n",
            "|2020-02-18|Apple To Miss Q2 ...|Apple Inc. (NASDA...|\n",
            "|2020-02-18|9 Stocks To Watch...|Some of the stock...|\n",
            "|2020-02-18|A Peek Into The M...|Pre-open movers U...|\n",
            "|2020-02-18|30 Stocks Moving ...|Gainers Senmiao T...|\n",
            "|2020-02-18|EU Rejects Facebo...|Facebook Inc.’s (...|\n",
            "|2020-02-18|Global Stocks Dro...|Markets in Asia a...|\n",
            "|2020-02-18|Apple Experts Rea...|\"Shares of Apple ...|\n",
            "|2020-02-18|Mid-Morning Marke...|Following the mar...|\n",
            "|2020-02-18|Market Taking A S...|It’s shaping up t...|\n",
            "|2020-02-18|3 ETFs To Watch T...|U.S. markets were...|\n",
            "|2020-02-18|Walmart's Exposur...|\"The coronavirus ...|\n",
            "|2020-02-18|3 Apple Analysts ...|Apple Inc. (NASDA...|\n",
            "|2020-02-18|Mid-Day Market Up...|Midway through tr...|\n",
            "|2020-02-18|46 Stocks Moving ...|Gainers Belleroph...|\n",
            "|2020-02-18|Mid-Afternoon Mar...|Toward the end of...|\n",
            "|2020-02-19|Apple Low-Cost iP...|Mass production o...|\n",
            "|2020-02-19|Unfazed FAANGs: P...|\"The Fed might st...|\n",
            "|2020-02-19|Wednesday's Marke...|Since the start o...|\n",
            "|2020-02-19|Calendar Apps Can...|\"It's no secret t...|\n",
            "|2020-02-20|Apple Demands To ...|\"Apple Inc. (NASD...|\n",
            "+----------+--------------------+--------------------+\n",
            "only showing top 20 rows\n",
            "\n"
          ]
        }
      ],
      "source": [
        "from pyspark.sql.functions import col\n",
        "\n",
        "#Build a new dataframe for NLP processing\n",
        "data = data.select(col(\"date\"), col(\"title\"), col(\"body\"))\n",
        "data.show()"
      ]
    },
    {
      "cell_type": "code",
      "execution_count": null,
      "metadata": {
        "id": "yYHh8SLZ28r6",
        "colab": {
          "base_uri": "https://localhost:8080/"
        },
        "outputId": "d6c43a43-b057-4a3f-8ea5-c64c80414aa9"
      },
      "outputs": [
        {
          "output_type": "stream",
          "name": "stdout",
          "text": [
            "+----------+--------------------+--------------------+--------------------+--------------------+\n",
            "|      date|               title|                body|               words|          sw_removed|\n",
            "+----------+--------------------+--------------------+--------------------+--------------------+\n",
            "|2020-02-18|Apple To Miss Q2 ...|Apple Inc. (NASDA...|[apple, inc., (na...|[apple, inc., (na...|\n",
            "|2020-02-18|9 Stocks To Watch...|Some of the stock...|[some, of, the, s...|[stocks, may, gra...|\n",
            "|2020-02-18|A Peek Into The M...|Pre-open movers U...|[pre-open, movers...|[pre-open, movers...|\n",
            "|2020-02-18|30 Stocks Moving ...|Gainers Senmiao T...|[gainers, senmiao...|[gainers, senmiao...|\n",
            "|2020-02-18|EU Rejects Facebo...|Facebook Inc.’s (...|[facebook, inc.’s...|[facebook, inc.’s...|\n",
            "|2020-02-18|Global Stocks Dro...|Markets in Asia a...|[markets, in, asi...|[markets, asia, e...|\n",
            "|2020-02-18|Apple Experts Rea...|\"Shares of Apple ...|[\"shares, of, app...|[\"shares, apple, ...|\n",
            "|2020-02-18|Mid-Morning Marke...|Following the mar...|[following, the, ...|[following, marke...|\n",
            "|2020-02-18|Market Taking A S...|It’s shaping up t...|[it’s, shaping, u...|[it’s, shaping, u...|\n",
            "|2020-02-18|3 ETFs To Watch T...|U.S. markets were...|[u.s., markets, w...|[u.s., markets, c...|\n",
            "|2020-02-18|Walmart's Exposur...|\"The coronavirus ...|[\"the, coronaviru...|[\"the, coronaviru...|\n",
            "|2020-02-18|3 Apple Analysts ...|Apple Inc. (NASDA...|[apple, inc., (na...|[apple, inc., (na...|\n",
            "|2020-02-18|Mid-Day Market Up...|Midway through tr...|[midway, through,...|[midway, trading,...|\n",
            "|2020-02-18|46 Stocks Moving ...|Gainers Belleroph...|[gainers, bellero...|[gainers, bellero...|\n",
            "|2020-02-18|Mid-Afternoon Mar...|Toward the end of...|[toward, the, end...|[toward, end, tra...|\n",
            "|2020-02-19|Apple Low-Cost iP...|Mass production o...|[mass, production...|[mass, production...|\n",
            "|2020-02-19|Unfazed FAANGs: P...|\"The Fed might st...|[\"the, fed, might...|[\"the, fed, might...|\n",
            "|2020-02-19|Wednesday's Marke...|Since the start o...|[since, the, star...|[since, start, ye...|\n",
            "|2020-02-19|Calendar Apps Can...|\"It's no secret t...|[\"it's, no, secre...|[\"it's, secret, c...|\n",
            "|2020-02-20|Apple Demands To ...|\"Apple Inc. (NASD...|[\"apple, inc., (n...|[\"apple, inc., (n...|\n",
            "+----------+--------------------+--------------------+--------------------+--------------------+\n",
            "only showing top 20 rows\n",
            "\n"
          ]
        }
      ],
      "source": [
        "from pyspark.ml.feature import Tokenizer, StopWordsRemover\n",
        "#Define what the tokenizer do, takes 'body' columns and create another column 'word' for results\n",
        "tokenizer = Tokenizer(inputCol=\"body\", outputCol=\"words\")\n",
        "#Define name for stopwords, remove stopwords in columns 'words' then output to a new columns 'sw_removed'\n",
        "stopwordFilter = StopWordsRemover(inputCol = \"words\", outputCol = 'sw_removed')\n",
        "\n",
        "#Apply to the dataframe, first tokenize the words, then remove the stop words. \n",
        "data_token = tokenizer.transform(data)\n",
        "data_token_woStop = stopwordFilter.transform(data_token)\n",
        "\n",
        "#Print this dataframe to see\n",
        "data_token_woStop.show()"
      ]
    },
    {
      "cell_type": "markdown",
      "source": [
        "Machine Learning\n",
        "\n",
        "Vectorizing words into numbers.\n"
      ],
      "metadata": {
        "id": "fGUbDcJWA0eI"
      }
    },
    {
      "cell_type": "code",
      "source": [
        "from pyspark.ml.feature import Word2Vec\n",
        "\n",
        "w2v = Word2Vec(seed = 100, minCount = 3, inputCol = 'sw_removed', outputCol = 'wordvector')\n",
        "w2v_model = w2v.fit(data_token_woStop)\n",
        "\n",
        "w2v_data = w2v_model.transform(data_token_woStop)\n",
        "w2v_data.show()"
      ],
      "metadata": {
        "colab": {
          "base_uri": "https://localhost:8080/"
        },
        "id": "VAHuGutRAz6Z",
        "outputId": "d0423572-8d7a-4f00-d163-3e1501ba6791"
      },
      "execution_count": null,
      "outputs": [
        {
          "output_type": "stream",
          "name": "stdout",
          "text": [
            "+----------+--------------------+--------------------+--------------------+--------------------+--------------------+\n",
            "|      date|               title|                body|               words|          sw_removed|          wordvector|\n",
            "+----------+--------------------+--------------------+--------------------+--------------------+--------------------+\n",
            "|2020-02-18|Apple To Miss Q2 ...|Apple Inc. (NASDA...|[apple, inc., (na...|[apple, inc., (na...|[-0.0193461150184...|\n",
            "|2020-02-18|9 Stocks To Watch...|Some of the stock...|[some, of, the, s...|[stocks, may, gra...|[0.00624538739266...|\n",
            "|2020-02-18|A Peek Into The M...|Pre-open movers U...|[pre-open, movers...|[pre-open, movers...|[-0.0686045814689...|\n",
            "|2020-02-18|30 Stocks Moving ...|Gainers Senmiao T...|[gainers, senmiao...|[gainers, senmiao...|[-0.0263180864146...|\n",
            "|2020-02-18|EU Rejects Facebo...|Facebook Inc.’s (...|[facebook, inc.’s...|[facebook, inc.’s...|[-0.0330649789683...|\n",
            "|2020-02-18|Global Stocks Dro...|Markets in Asia a...|[markets, in, asi...|[markets, asia, e...|[-0.0265851021428...|\n",
            "|2020-02-18|Apple Experts Rea...|\"Shares of Apple ...|[\"shares, of, app...|[\"shares, apple, ...|[-0.0061911060283...|\n",
            "|2020-02-18|Mid-Morning Marke...|Following the mar...|[following, the, ...|[following, marke...|[-0.0326911719477...|\n",
            "|2020-02-18|Market Taking A S...|It’s shaping up t...|[it’s, shaping, u...|[it’s, shaping, u...|[0.00327958692427...|\n",
            "|2020-02-18|3 ETFs To Watch T...|U.S. markets were...|[u.s., markets, w...|[u.s., markets, c...|[-0.0180939711493...|\n",
            "|2020-02-18|Walmart's Exposur...|\"The coronavirus ...|[\"the, coronaviru...|[\"the, coronaviru...|[-0.0312164167863...|\n",
            "|2020-02-18|3 Apple Analysts ...|Apple Inc. (NASDA...|[apple, inc., (na...|[apple, inc., (na...|[-0.0361653567519...|\n",
            "|2020-02-18|Mid-Day Market Up...|Midway through tr...|[midway, through,...|[midway, trading,...|[-0.0197436604641...|\n",
            "|2020-02-18|46 Stocks Moving ...|Gainers Belleroph...|[gainers, bellero...|[gainers, bellero...|[0.00154540178954...|\n",
            "|2020-02-18|Mid-Afternoon Mar...|Toward the end of...|[toward, the, end...|[toward, end, tra...|[2.57259440246303...|\n",
            "|2020-02-19|Apple Low-Cost iP...|Mass production o...|[mass, production...|[mass, production...|[-0.0112115200515...|\n",
            "|2020-02-19|Unfazed FAANGs: P...|\"The Fed might st...|[\"the, fed, might...|[\"the, fed, might...|[-0.0154740592109...|\n",
            "|2020-02-19|Wednesday's Marke...|Since the start o...|[since, the, star...|[since, start, ye...|[-0.0394799495677...|\n",
            "|2020-02-19|Calendar Apps Can...|\"It's no secret t...|[\"it's, no, secre...|[\"it's, secret, c...|[9.75514493871763...|\n",
            "|2020-02-20|Apple Demands To ...|\"Apple Inc. (NASD...|[\"apple, inc., (n...|[\"apple, inc., (n...|[-0.0676371642388...|\n",
            "+----------+--------------------+--------------------+--------------------+--------------------+--------------------+\n",
            "only showing top 20 rows\n",
            "\n"
          ]
        }
      ]
    },
    {
      "cell_type": "markdown",
      "source": [
        "Introduce the Prophet model from Facebook for Time Series Stock Price prediciton"
      ],
      "metadata": {
        "id": "wJYahULQEQoa"
      }
    },
    {
      "cell_type": "code",
      "source": [
        "stock_data = \"/content/drive/MyDrive/dawjones_tenyears.csv\""
      ],
      "metadata": {
        "id": "FalcR6mWUY5b"
      },
      "execution_count": null,
      "outputs": []
    },
    {
      "cell_type": "code",
      "source": [
        "stock_data_spark = data = spark.read.format(\"csv\") \\\n",
        "                  .options(header='true', inferschema='true', treatEmptyValuesAsNulls='true') \\\n",
        "                  .load(f\"{stock_data}\")"
      ],
      "metadata": {
        "id": "deSNK3KrUfym"
      },
      "execution_count": null,
      "outputs": []
    },
    {
      "cell_type": "code",
      "source": [
        "from pyspark.sql.functions import col\n",
        "\n",
        "#Print out the names of all columns\n",
        "stock_data_spark.columns"
      ],
      "metadata": {
        "colab": {
          "base_uri": "https://localhost:8080/"
        },
        "id": "FdLkA96AVJEZ",
        "outputId": "886b79e3-004b-4b3f-9408-eed3e96ea438"
      },
      "execution_count": null,
      "outputs": [
        {
          "output_type": "execute_result",
          "data": {
            "text/plain": [
              "['date', 'open', 'high', 'low', 'close', 'adjclose', 'volume', 'ticker']"
            ]
          },
          "metadata": {},
          "execution_count": 29
        }
      ]
    },
    {
      "cell_type": "code",
      "source": [
        "# Filter only AAPL\n",
        "apple = stock_data_spark.filter(col('ticker') == 'AAPL')\n",
        "# Select necessary \"date\", \"close\" as features\n",
        "apple = apple.select(col('date'), col('close'))\n",
        "apple.count()"
      ],
      "metadata": {
        "colab": {
          "base_uri": "https://localhost:8080/"
        },
        "id": "oStSVpxAWBjP",
        "outputId": "37edc8ae-f1cc-4133-97d5-051cb072958c"
      },
      "execution_count": null,
      "outputs": [
        {
          "output_type": "execute_result",
          "data": {
            "text/plain": [
              "2518"
            ]
          },
          "metadata": {},
          "execution_count": 30
        }
      ]
    },
    {
      "cell_type": "code",
      "source": [
        "apple.head()\n",
        "apple.tail(2)"
      ],
      "metadata": {
        "colab": {
          "base_uri": "https://localhost:8080/"
        },
        "id": "GEXKmDmcwCFS",
        "outputId": "5ef0c410-9ef4-4491-fe9b-01618a76e211"
      },
      "execution_count": null,
      "outputs": [
        {
          "output_type": "execute_result",
          "data": {
            "text/plain": [
              "[Row(date=datetime.date(2023, 3, 28), close=157.64999389648438),\n",
              " Row(date=datetime.date(2023, 3, 29), close=160.77000427246094)]"
            ]
          },
          "metadata": {},
          "execution_count": 31
        }
      ]
    },
    {
      "cell_type": "code",
      "source": [
        "# import time series model\n",
        "from prophet import Prophet"
      ],
      "metadata": {
        "id": "3dQfCSqLZlPX"
      },
      "execution_count": null,
      "outputs": []
    },
    {
      "cell_type": "code",
      "source": [
        "# Prep dataframe to fit model \n",
        "apple = apple.withColumnRenamed('date', 'ds') \\\n",
        "            .withColumnRenamed('close', 'y')\n",
        "\n",
        "apple.show()"
      ],
      "metadata": {
        "colab": {
          "base_uri": "https://localhost:8080/"
        },
        "id": "XMxFpr0mZyky",
        "outputId": "0a62d84d-7a4a-461d-8b9c-a87db88632b2"
      },
      "execution_count": null,
      "outputs": [
        {
          "output_type": "stream",
          "name": "stdout",
          "text": [
            "+----------+------------------+\n",
            "|        ds|                 y|\n",
            "+----------+------------------+\n",
            "|2013-04-01|15.318214416503906|\n",
            "|2013-04-02|15.349642753601074|\n",
            "|2013-04-03|15.428214073181152|\n",
            "|2013-04-04|15.275713920593262|\n",
            "|2013-04-05|15.114286422729492|\n",
            "|2013-04-08|15.221785545349121|\n",
            "|2013-04-09|15.249285697937012|\n",
            "|2013-04-10|15.560357093811035|\n",
            "|2013-04-11|15.511786460876465|\n",
            "|2013-04-12|15.350000381469727|\n",
            "|2013-04-15|14.994643211364746|\n",
            "|2013-04-16|15.222857475280762|\n",
            "|2013-04-17|14.385713577270508|\n",
            "|2013-04-18|14.001786231994629|\n",
            "|2013-04-19|13.947500228881836|\n",
            "|2013-04-22|14.238213539123535|\n",
            "|2013-04-23|14.504643440246582|\n",
            "|2013-04-24|14.480713844299316|\n",
            "|2013-04-25|14.585000038146973|\n",
            "|2013-04-26|14.899999618530273|\n",
            "+----------+------------------+\n",
            "only showing top 20 rows\n",
            "\n"
          ]
        }
      ]
    },
    {
      "cell_type": "code",
      "source": [
        "#Call Prophet model\n",
        "model = Prophet()\n",
        "\n",
        "#transform spark dataframe to pandas dataframe for prophet model\n",
        "df_apple = apple.toPandas()\n",
        "\n",
        "#fit the model\n",
        "model.fit(df_apple)"
      ],
      "metadata": {
        "id": "t5MgK91nbEzg",
        "colab": {
          "base_uri": "https://localhost:8080/"
        },
        "outputId": "f59198ed-d565-4549-8ea1-0d5d79a84062"
      },
      "execution_count": null,
      "outputs": [
        {
          "output_type": "stream",
          "name": "stderr",
          "text": [
            "INFO:prophet:Disabling daily seasonality. Run prophet with daily_seasonality=True to override this.\n",
            "DEBUG:cmdstanpy:input tempfile: /tmp/tmpmzf40cus/9qa_a5ex.json\n",
            "DEBUG:cmdstanpy:input tempfile: /tmp/tmpmzf40cus/z2o236a9.json\n",
            "DEBUG:cmdstanpy:idx 0\n",
            "DEBUG:cmdstanpy:running CmdStan, num_threads: None\n",
            "DEBUG:cmdstanpy:CmdStan args: ['/usr/local/lib/python3.10/dist-packages/prophet/stan_model/prophet_model.bin', 'random', 'seed=13511', 'data', 'file=/tmp/tmpmzf40cus/9qa_a5ex.json', 'init=/tmp/tmpmzf40cus/z2o236a9.json', 'output', 'file=/tmp/tmpmzf40cus/prophet_modelg68s5ijw/prophet_model-20230501195549.csv', 'method=optimize', 'algorithm=lbfgs', 'iter=10000']\n",
            "19:55:49 - cmdstanpy - INFO - Chain [1] start processing\n",
            "INFO:cmdstanpy:Chain [1] start processing\n",
            "19:55:50 - cmdstanpy - INFO - Chain [1] done processing\n",
            "INFO:cmdstanpy:Chain [1] done processing\n"
          ]
        },
        {
          "output_type": "execute_result",
          "data": {
            "text/plain": [
              "<prophet.forecaster.Prophet at 0x7ffaf0451c60>"
            ]
          },
          "metadata": {},
          "execution_count": 34
        }
      ]
    },
    {
      "cell_type": "code",
      "source": [
        "# Generate 365 days in the future.\n",
        "future_date = model.make_future_dataframe(periods = 365)\n",
        "future_date.head()"
      ],
      "metadata": {
        "id": "bYHb3uMXFKW5",
        "colab": {
          "base_uri": "https://localhost:8080/",
          "height": 206
        },
        "outputId": "74efe339-9469-438f-d06b-73af37b73aec"
      },
      "execution_count": null,
      "outputs": [
        {
          "output_type": "execute_result",
          "data": {
            "text/plain": [
              "          ds\n",
              "0 2013-04-01\n",
              "1 2013-04-02\n",
              "2 2013-04-03\n",
              "3 2013-04-04\n",
              "4 2013-04-05"
            ],
            "text/html": [
              "\n",
              "  <div id=\"df-be13a17b-0d4c-4fe4-adee-603111bc85f9\">\n",
              "    <div class=\"colab-df-container\">\n",
              "      <div>\n",
              "<style scoped>\n",
              "    .dataframe tbody tr th:only-of-type {\n",
              "        vertical-align: middle;\n",
              "    }\n",
              "\n",
              "    .dataframe tbody tr th {\n",
              "        vertical-align: top;\n",
              "    }\n",
              "\n",
              "    .dataframe thead th {\n",
              "        text-align: right;\n",
              "    }\n",
              "</style>\n",
              "<table border=\"1\" class=\"dataframe\">\n",
              "  <thead>\n",
              "    <tr style=\"text-align: right;\">\n",
              "      <th></th>\n",
              "      <th>ds</th>\n",
              "    </tr>\n",
              "  </thead>\n",
              "  <tbody>\n",
              "    <tr>\n",
              "      <th>0</th>\n",
              "      <td>2013-04-01</td>\n",
              "    </tr>\n",
              "    <tr>\n",
              "      <th>1</th>\n",
              "      <td>2013-04-02</td>\n",
              "    </tr>\n",
              "    <tr>\n",
              "      <th>2</th>\n",
              "      <td>2013-04-03</td>\n",
              "    </tr>\n",
              "    <tr>\n",
              "      <th>3</th>\n",
              "      <td>2013-04-04</td>\n",
              "    </tr>\n",
              "    <tr>\n",
              "      <th>4</th>\n",
              "      <td>2013-04-05</td>\n",
              "    </tr>\n",
              "  </tbody>\n",
              "</table>\n",
              "</div>\n",
              "      <button class=\"colab-df-convert\" onclick=\"convertToInteractive('df-be13a17b-0d4c-4fe4-adee-603111bc85f9')\"\n",
              "              title=\"Convert this dataframe to an interactive table.\"\n",
              "              style=\"display:none;\">\n",
              "        \n",
              "  <svg xmlns=\"http://www.w3.org/2000/svg\" height=\"24px\"viewBox=\"0 0 24 24\"\n",
              "       width=\"24px\">\n",
              "    <path d=\"M0 0h24v24H0V0z\" fill=\"none\"/>\n",
              "    <path d=\"M18.56 5.44l.94 2.06.94-2.06 2.06-.94-2.06-.94-.94-2.06-.94 2.06-2.06.94zm-11 1L8.5 8.5l.94-2.06 2.06-.94-2.06-.94L8.5 2.5l-.94 2.06-2.06.94zm10 10l.94 2.06.94-2.06 2.06-.94-2.06-.94-.94-2.06-.94 2.06-2.06.94z\"/><path d=\"M17.41 7.96l-1.37-1.37c-.4-.4-.92-.59-1.43-.59-.52 0-1.04.2-1.43.59L10.3 9.45l-7.72 7.72c-.78.78-.78 2.05 0 2.83L4 21.41c.39.39.9.59 1.41.59.51 0 1.02-.2 1.41-.59l7.78-7.78 2.81-2.81c.8-.78.8-2.07 0-2.86zM5.41 20L4 18.59l7.72-7.72 1.47 1.35L5.41 20z\"/>\n",
              "  </svg>\n",
              "      </button>\n",
              "      \n",
              "  <style>\n",
              "    .colab-df-container {\n",
              "      display:flex;\n",
              "      flex-wrap:wrap;\n",
              "      gap: 12px;\n",
              "    }\n",
              "\n",
              "    .colab-df-convert {\n",
              "      background-color: #E8F0FE;\n",
              "      border: none;\n",
              "      border-radius: 50%;\n",
              "      cursor: pointer;\n",
              "      display: none;\n",
              "      fill: #1967D2;\n",
              "      height: 32px;\n",
              "      padding: 0 0 0 0;\n",
              "      width: 32px;\n",
              "    }\n",
              "\n",
              "    .colab-df-convert:hover {\n",
              "      background-color: #E2EBFA;\n",
              "      box-shadow: 0px 1px 2px rgba(60, 64, 67, 0.3), 0px 1px 3px 1px rgba(60, 64, 67, 0.15);\n",
              "      fill: #174EA6;\n",
              "    }\n",
              "\n",
              "    [theme=dark] .colab-df-convert {\n",
              "      background-color: #3B4455;\n",
              "      fill: #D2E3FC;\n",
              "    }\n",
              "\n",
              "    [theme=dark] .colab-df-convert:hover {\n",
              "      background-color: #434B5C;\n",
              "      box-shadow: 0px 1px 3px 1px rgba(0, 0, 0, 0.15);\n",
              "      filter: drop-shadow(0px 1px 2px rgba(0, 0, 0, 0.3));\n",
              "      fill: #FFFFFF;\n",
              "    }\n",
              "  </style>\n",
              "\n",
              "      <script>\n",
              "        const buttonEl =\n",
              "          document.querySelector('#df-be13a17b-0d4c-4fe4-adee-603111bc85f9 button.colab-df-convert');\n",
              "        buttonEl.style.display =\n",
              "          google.colab.kernel.accessAllowed ? 'block' : 'none';\n",
              "\n",
              "        async function convertToInteractive(key) {\n",
              "          const element = document.querySelector('#df-be13a17b-0d4c-4fe4-adee-603111bc85f9');\n",
              "          const dataTable =\n",
              "            await google.colab.kernel.invokeFunction('convertToInteractive',\n",
              "                                                     [key], {});\n",
              "          if (!dataTable) return;\n",
              "\n",
              "          const docLinkHtml = 'Like what you see? Visit the ' +\n",
              "            '<a target=\"_blank\" href=https://colab.research.google.com/notebooks/data_table.ipynb>data table notebook</a>'\n",
              "            + ' to learn more about interactive tables.';\n",
              "          element.innerHTML = '';\n",
              "          dataTable['output_type'] = 'display_data';\n",
              "          await google.colab.output.renderOutput(dataTable, element);\n",
              "          const docLink = document.createElement('div');\n",
              "          docLink.innerHTML = docLinkHtml;\n",
              "          element.appendChild(docLink);\n",
              "        }\n",
              "      </script>\n",
              "    </div>\n",
              "  </div>\n",
              "  "
            ]
          },
          "metadata": {},
          "execution_count": 35
        }
      ]
    },
    {
      "cell_type": "code",
      "source": [
        "# Make forecast with the future date data \n",
        "forecast = model.predict(future_date)"
      ],
      "metadata": {
        "id": "5s5R3uMCFgx7"
      },
      "execution_count": null,
      "outputs": []
    },
    {
      "cell_type": "code",
      "source": [
        "#Extract only the date, and predicted price\n",
        "apple_forecast = forecast[['ds', 'yhat']]\n",
        "\n",
        "#Add a column that specify this is Apple\n",
        "apple_forecast['ticker'] = 'AAPL'\n",
        "apple_forecast = apple_forecast.rename(columns = {'ds': 'date', 'yhat': 'price'})\n",
        "\n",
        "#print out the forecast\n",
        "apple_forecast"
      ],
      "metadata": {
        "id": "JRiaegoNIF1K",
        "colab": {
          "base_uri": "https://localhost:8080/",
          "height": 531
        },
        "outputId": "53821a1c-4389-434f-9556-32f272665b7f"
      },
      "execution_count": null,
      "outputs": [
        {
          "output_type": "stream",
          "name": "stderr",
          "text": [
            "<ipython-input-37-6037b0b2a63a>:5: SettingWithCopyWarning: \n",
            "A value is trying to be set on a copy of a slice from a DataFrame.\n",
            "Try using .loc[row_indexer,col_indexer] = value instead\n",
            "\n",
            "See the caveats in the documentation: https://pandas.pydata.org/pandas-docs/stable/user_guide/indexing.html#returning-a-view-versus-a-copy\n",
            "  apple_forecast['ticker'] = 'AAPL'\n"
          ]
        },
        {
          "output_type": "execute_result",
          "data": {
            "text/plain": [
              "           date       price ticker\n",
              "0    2013-04-01   13.361847   AAPL\n",
              "1    2013-04-02   13.359300   AAPL\n",
              "2    2013-04-03   13.430811   AAPL\n",
              "3    2013-04-04   13.368473   AAPL\n",
              "4    2013-04-05   13.316242   AAPL\n",
              "...         ...         ...    ...\n",
              "2878 2024-03-24  161.638114   AAPL\n",
              "2879 2024-03-25  161.025396   AAPL\n",
              "2880 2024-03-26  161.070085   AAPL\n",
              "2881 2024-03-27  161.185748   AAPL\n",
              "2882 2024-03-28  161.163512   AAPL\n",
              "\n",
              "[2883 rows x 3 columns]"
            ],
            "text/html": [
              "\n",
              "  <div id=\"df-31df3f75-a4ea-4cd0-a528-61ea2eadebd6\">\n",
              "    <div class=\"colab-df-container\">\n",
              "      <div>\n",
              "<style scoped>\n",
              "    .dataframe tbody tr th:only-of-type {\n",
              "        vertical-align: middle;\n",
              "    }\n",
              "\n",
              "    .dataframe tbody tr th {\n",
              "        vertical-align: top;\n",
              "    }\n",
              "\n",
              "    .dataframe thead th {\n",
              "        text-align: right;\n",
              "    }\n",
              "</style>\n",
              "<table border=\"1\" class=\"dataframe\">\n",
              "  <thead>\n",
              "    <tr style=\"text-align: right;\">\n",
              "      <th></th>\n",
              "      <th>date</th>\n",
              "      <th>price</th>\n",
              "      <th>ticker</th>\n",
              "    </tr>\n",
              "  </thead>\n",
              "  <tbody>\n",
              "    <tr>\n",
              "      <th>0</th>\n",
              "      <td>2013-04-01</td>\n",
              "      <td>13.361847</td>\n",
              "      <td>AAPL</td>\n",
              "    </tr>\n",
              "    <tr>\n",
              "      <th>1</th>\n",
              "      <td>2013-04-02</td>\n",
              "      <td>13.359300</td>\n",
              "      <td>AAPL</td>\n",
              "    </tr>\n",
              "    <tr>\n",
              "      <th>2</th>\n",
              "      <td>2013-04-03</td>\n",
              "      <td>13.430811</td>\n",
              "      <td>AAPL</td>\n",
              "    </tr>\n",
              "    <tr>\n",
              "      <th>3</th>\n",
              "      <td>2013-04-04</td>\n",
              "      <td>13.368473</td>\n",
              "      <td>AAPL</td>\n",
              "    </tr>\n",
              "    <tr>\n",
              "      <th>4</th>\n",
              "      <td>2013-04-05</td>\n",
              "      <td>13.316242</td>\n",
              "      <td>AAPL</td>\n",
              "    </tr>\n",
              "    <tr>\n",
              "      <th>...</th>\n",
              "      <td>...</td>\n",
              "      <td>...</td>\n",
              "      <td>...</td>\n",
              "    </tr>\n",
              "    <tr>\n",
              "      <th>2878</th>\n",
              "      <td>2024-03-24</td>\n",
              "      <td>161.638114</td>\n",
              "      <td>AAPL</td>\n",
              "    </tr>\n",
              "    <tr>\n",
              "      <th>2879</th>\n",
              "      <td>2024-03-25</td>\n",
              "      <td>161.025396</td>\n",
              "      <td>AAPL</td>\n",
              "    </tr>\n",
              "    <tr>\n",
              "      <th>2880</th>\n",
              "      <td>2024-03-26</td>\n",
              "      <td>161.070085</td>\n",
              "      <td>AAPL</td>\n",
              "    </tr>\n",
              "    <tr>\n",
              "      <th>2881</th>\n",
              "      <td>2024-03-27</td>\n",
              "      <td>161.185748</td>\n",
              "      <td>AAPL</td>\n",
              "    </tr>\n",
              "    <tr>\n",
              "      <th>2882</th>\n",
              "      <td>2024-03-28</td>\n",
              "      <td>161.163512</td>\n",
              "      <td>AAPL</td>\n",
              "    </tr>\n",
              "  </tbody>\n",
              "</table>\n",
              "<p>2883 rows × 3 columns</p>\n",
              "</div>\n",
              "      <button class=\"colab-df-convert\" onclick=\"convertToInteractive('df-31df3f75-a4ea-4cd0-a528-61ea2eadebd6')\"\n",
              "              title=\"Convert this dataframe to an interactive table.\"\n",
              "              style=\"display:none;\">\n",
              "        \n",
              "  <svg xmlns=\"http://www.w3.org/2000/svg\" height=\"24px\"viewBox=\"0 0 24 24\"\n",
              "       width=\"24px\">\n",
              "    <path d=\"M0 0h24v24H0V0z\" fill=\"none\"/>\n",
              "    <path d=\"M18.56 5.44l.94 2.06.94-2.06 2.06-.94-2.06-.94-.94-2.06-.94 2.06-2.06.94zm-11 1L8.5 8.5l.94-2.06 2.06-.94-2.06-.94L8.5 2.5l-.94 2.06-2.06.94zm10 10l.94 2.06.94-2.06 2.06-.94-2.06-.94-.94-2.06-.94 2.06-2.06.94z\"/><path d=\"M17.41 7.96l-1.37-1.37c-.4-.4-.92-.59-1.43-.59-.52 0-1.04.2-1.43.59L10.3 9.45l-7.72 7.72c-.78.78-.78 2.05 0 2.83L4 21.41c.39.39.9.59 1.41.59.51 0 1.02-.2 1.41-.59l7.78-7.78 2.81-2.81c.8-.78.8-2.07 0-2.86zM5.41 20L4 18.59l7.72-7.72 1.47 1.35L5.41 20z\"/>\n",
              "  </svg>\n",
              "      </button>\n",
              "      \n",
              "  <style>\n",
              "    .colab-df-container {\n",
              "      display:flex;\n",
              "      flex-wrap:wrap;\n",
              "      gap: 12px;\n",
              "    }\n",
              "\n",
              "    .colab-df-convert {\n",
              "      background-color: #E8F0FE;\n",
              "      border: none;\n",
              "      border-radius: 50%;\n",
              "      cursor: pointer;\n",
              "      display: none;\n",
              "      fill: #1967D2;\n",
              "      height: 32px;\n",
              "      padding: 0 0 0 0;\n",
              "      width: 32px;\n",
              "    }\n",
              "\n",
              "    .colab-df-convert:hover {\n",
              "      background-color: #E2EBFA;\n",
              "      box-shadow: 0px 1px 2px rgba(60, 64, 67, 0.3), 0px 1px 3px 1px rgba(60, 64, 67, 0.15);\n",
              "      fill: #174EA6;\n",
              "    }\n",
              "\n",
              "    [theme=dark] .colab-df-convert {\n",
              "      background-color: #3B4455;\n",
              "      fill: #D2E3FC;\n",
              "    }\n",
              "\n",
              "    [theme=dark] .colab-df-convert:hover {\n",
              "      background-color: #434B5C;\n",
              "      box-shadow: 0px 1px 3px 1px rgba(0, 0, 0, 0.15);\n",
              "      filter: drop-shadow(0px 1px 2px rgba(0, 0, 0, 0.3));\n",
              "      fill: #FFFFFF;\n",
              "    }\n",
              "  </style>\n",
              "\n",
              "      <script>\n",
              "        const buttonEl =\n",
              "          document.querySelector('#df-31df3f75-a4ea-4cd0-a528-61ea2eadebd6 button.colab-df-convert');\n",
              "        buttonEl.style.display =\n",
              "          google.colab.kernel.accessAllowed ? 'block' : 'none';\n",
              "\n",
              "        async function convertToInteractive(key) {\n",
              "          const element = document.querySelector('#df-31df3f75-a4ea-4cd0-a528-61ea2eadebd6');\n",
              "          const dataTable =\n",
              "            await google.colab.kernel.invokeFunction('convertToInteractive',\n",
              "                                                     [key], {});\n",
              "          if (!dataTable) return;\n",
              "\n",
              "          const docLinkHtml = 'Like what you see? Visit the ' +\n",
              "            '<a target=\"_blank\" href=https://colab.research.google.com/notebooks/data_table.ipynb>data table notebook</a>'\n",
              "            + ' to learn more about interactive tables.';\n",
              "          element.innerHTML = '';\n",
              "          dataTable['output_type'] = 'display_data';\n",
              "          await google.colab.output.renderOutput(dataTable, element);\n",
              "          const docLink = document.createElement('div');\n",
              "          docLink.innerHTML = docLinkHtml;\n",
              "          element.appendChild(docLink);\n",
              "        }\n",
              "      </script>\n",
              "    </div>\n",
              "  </div>\n",
              "  "
            ]
          },
          "metadata": {},
          "execution_count": 37
        }
      ]
    },
    {
      "cell_type": "code",
      "source": [
        "# Convert spark df to panda dataframe, change the name of columns\n",
        "w2v_pandas = w2v_data.toPandas()\n",
        "apple_close_pandas = apple.toPandas().rename(columns = {'ds': 'date', 'y': 'price'})\n",
        "\n",
        "w2v_pandas['date'] = pd.to_datetime(w2v_pandas['date'])\n",
        "apple_close_pandas['date'] = pd.to_datetime(apple_close_pandas['date'])"
      ],
      "metadata": {
        "id": "tIuBn_hnKkVU"
      },
      "execution_count": null,
      "outputs": []
    },
    {
      "cell_type": "code",
      "source": [
        "# Check the type of columns before merging\n",
        "print(w2v_pandas.dtypes)\n",
        "print(apple_close_pandas.dtypes)"
      ],
      "metadata": {
        "colab": {
          "base_uri": "https://localhost:8080/"
        },
        "id": "WRt5_3pZOc4w",
        "outputId": "db731eea-4f0a-4251-f4ba-34b1f91488c6"
      },
      "execution_count": null,
      "outputs": [
        {
          "output_type": "stream",
          "name": "stdout",
          "text": [
            "date          datetime64[ns]\n",
            "title                 object\n",
            "body                  object\n",
            "words                 object\n",
            "sw_removed            object\n",
            "wordvector            object\n",
            "dtype: object\n",
            "date     datetime64[ns]\n",
            "price           float64\n",
            "dtype: object\n"
          ]
        }
      ]
    },
    {
      "cell_type": "code",
      "source": [
        "#merge the data with recorded stock price\n",
        "combined_data = pd.merge(w2v_pandas, apple_close_pandas, on='date')\n",
        "combined_data.dtypes"
      ],
      "metadata": {
        "colab": {
          "base_uri": "https://localhost:8080/"
        },
        "id": "RBgStirYJ9SS",
        "outputId": "01a3cd98-1e03-4ba4-af11-2979b5358d67"
      },
      "execution_count": null,
      "outputs": [
        {
          "output_type": "execute_result",
          "data": {
            "text/plain": [
              "date          datetime64[ns]\n",
              "title                 object\n",
              "body                  object\n",
              "words                 object\n",
              "sw_removed            object\n",
              "wordvector            object\n",
              "price                float64\n",
              "dtype: object"
            ]
          },
          "metadata": {},
          "execution_count": 40
        }
      ]
    },
    {
      "cell_type": "code",
      "source": [
        "# merge the data with predicted stock price\n",
        "full_data_prediction = pd.merge(combined_data, apple_forecast, on='date', how = 'outer')\n",
        "full_data_prediction"
      ],
      "metadata": {
        "id": "uOqUBphGOIU0",
        "colab": {
          "base_uri": "https://localhost:8080/",
          "height": 641
        },
        "outputId": "4ccf9b94-9593-45ed-bae8-4b32674f8013"
      },
      "execution_count": null,
      "outputs": [
        {
          "output_type": "execute_result",
          "data": {
            "text/plain": [
              "           date                                              title  \\\n",
              "0    2020-02-18  Apple To Miss Q2 Earnings As Coronavirus Outbr...   \n",
              "1    2020-02-18            9 Stocks To Watch For February 18, 2020   \n",
              "2    2020-02-18  A Peek Into The Markets: US Stock Futures Drop...   \n",
              "3    2020-02-18   30 Stocks Moving in Tuesday's Pre-Market Session   \n",
              "4    2020-02-18  EU Rejects Facebook Proposal On Content Modera...   \n",
              "...         ...                                                ...   \n",
              "6621 2024-03-24                                                NaN   \n",
              "6622 2024-03-25                                                NaN   \n",
              "6623 2024-03-26                                                NaN   \n",
              "6624 2024-03-27                                                NaN   \n",
              "6625 2024-03-28                                                NaN   \n",
              "\n",
              "                                                   body  \\\n",
              "0     Apple Inc. (NASDAQ:AAPL) on Monday said that i...   \n",
              "1     Some of the stocks that may grab investor focu...   \n",
              "2     Pre-open movers U.S. stock futures traded lowe...   \n",
              "3     Gainers Senmiao Technology Limited (NASDAQ:AIH...   \n",
              "4     Facebook Inc.’s (NASDAQ:FB) proposed framework...   \n",
              "...                                                 ...   \n",
              "6621                                                NaN   \n",
              "6622                                                NaN   \n",
              "6623                                                NaN   \n",
              "6624                                                NaN   \n",
              "6625                                                NaN   \n",
              "\n",
              "                                                  words  \\\n",
              "0     [apple, inc., (nasdaq:aapl), on, monday, said,...   \n",
              "1     [some, of, the, stocks, that, may, grab, inves...   \n",
              "2     [pre-open, movers, u.s., stock, futures, trade...   \n",
              "3     [gainers, senmiao, technology, limited, (nasda...   \n",
              "4     [facebook, inc.’s, (nasdaq:fb), proposed, fram...   \n",
              "...                                                 ...   \n",
              "6621                                                NaN   \n",
              "6622                                                NaN   \n",
              "6623                                                NaN   \n",
              "6624                                                NaN   \n",
              "6625                                                NaN   \n",
              "\n",
              "                                             sw_removed  \\\n",
              "0     [apple, inc., (nasdaq:aapl), monday, said, exp...   \n",
              "1     [stocks, may, grab, investor, focus, today, ar...   \n",
              "2     [pre-open, movers, u.s., stock, futures, trade...   \n",
              "3     [gainers, senmiao, technology, limited, (nasda...   \n",
              "4     [facebook, inc.’s, (nasdaq:fb), proposed, fram...   \n",
              "...                                                 ...   \n",
              "6621                                                NaN   \n",
              "6622                                                NaN   \n",
              "6623                                                NaN   \n",
              "6624                                                NaN   \n",
              "6625                                                NaN   \n",
              "\n",
              "                                             wordvector  price_x     price_y  \\\n",
              "0     [-0.019346115018432853, 0.021623999184857197, ...    79.75   74.043672   \n",
              "1     [0.006245387392668567, -0.027449340964704166, ...    79.75   74.043672   \n",
              "2     [-0.06860458146894373, 0.05131916658438202, 0....    79.75   74.043672   \n",
              "3     [-0.026318086414659412, 0.04042497831580705, -...    79.75   74.043672   \n",
              "4     [-0.033064978968368824, 0.06496041013910243, 0...    79.75   74.043672   \n",
              "...                                                 ...      ...         ...   \n",
              "6621                                                NaN      NaN  161.638114   \n",
              "6622                                                NaN      NaN  161.025396   \n",
              "6623                                                NaN      NaN  161.070085   \n",
              "6624                                                NaN      NaN  161.185748   \n",
              "6625                                                NaN      NaN  161.163512   \n",
              "\n",
              "     ticker  \n",
              "0      AAPL  \n",
              "1      AAPL  \n",
              "2      AAPL  \n",
              "3      AAPL  \n",
              "4      AAPL  \n",
              "...     ...  \n",
              "6621   AAPL  \n",
              "6622   AAPL  \n",
              "6623   AAPL  \n",
              "6624   AAPL  \n",
              "6625   AAPL  \n",
              "\n",
              "[6626 rows x 9 columns]"
            ],
            "text/html": [
              "\n",
              "  <div id=\"df-affb376e-190f-4fd4-a1ca-87fb46d09de1\">\n",
              "    <div class=\"colab-df-container\">\n",
              "      <div>\n",
              "<style scoped>\n",
              "    .dataframe tbody tr th:only-of-type {\n",
              "        vertical-align: middle;\n",
              "    }\n",
              "\n",
              "    .dataframe tbody tr th {\n",
              "        vertical-align: top;\n",
              "    }\n",
              "\n",
              "    .dataframe thead th {\n",
              "        text-align: right;\n",
              "    }\n",
              "</style>\n",
              "<table border=\"1\" class=\"dataframe\">\n",
              "  <thead>\n",
              "    <tr style=\"text-align: right;\">\n",
              "      <th></th>\n",
              "      <th>date</th>\n",
              "      <th>title</th>\n",
              "      <th>body</th>\n",
              "      <th>words</th>\n",
              "      <th>sw_removed</th>\n",
              "      <th>wordvector</th>\n",
              "      <th>price_x</th>\n",
              "      <th>price_y</th>\n",
              "      <th>ticker</th>\n",
              "    </tr>\n",
              "  </thead>\n",
              "  <tbody>\n",
              "    <tr>\n",
              "      <th>0</th>\n",
              "      <td>2020-02-18</td>\n",
              "      <td>Apple To Miss Q2 Earnings As Coronavirus Outbr...</td>\n",
              "      <td>Apple Inc. (NASDAQ:AAPL) on Monday said that i...</td>\n",
              "      <td>[apple, inc., (nasdaq:aapl), on, monday, said,...</td>\n",
              "      <td>[apple, inc., (nasdaq:aapl), monday, said, exp...</td>\n",
              "      <td>[-0.019346115018432853, 0.021623999184857197, ...</td>\n",
              "      <td>79.75</td>\n",
              "      <td>74.043672</td>\n",
              "      <td>AAPL</td>\n",
              "    </tr>\n",
              "    <tr>\n",
              "      <th>1</th>\n",
              "      <td>2020-02-18</td>\n",
              "      <td>9 Stocks To Watch For February 18, 2020</td>\n",
              "      <td>Some of the stocks that may grab investor focu...</td>\n",
              "      <td>[some, of, the, stocks, that, may, grab, inves...</td>\n",
              "      <td>[stocks, may, grab, investor, focus, today, ar...</td>\n",
              "      <td>[0.006245387392668567, -0.027449340964704166, ...</td>\n",
              "      <td>79.75</td>\n",
              "      <td>74.043672</td>\n",
              "      <td>AAPL</td>\n",
              "    </tr>\n",
              "    <tr>\n",
              "      <th>2</th>\n",
              "      <td>2020-02-18</td>\n",
              "      <td>A Peek Into The Markets: US Stock Futures Drop...</td>\n",
              "      <td>Pre-open movers U.S. stock futures traded lowe...</td>\n",
              "      <td>[pre-open, movers, u.s., stock, futures, trade...</td>\n",
              "      <td>[pre-open, movers, u.s., stock, futures, trade...</td>\n",
              "      <td>[-0.06860458146894373, 0.05131916658438202, 0....</td>\n",
              "      <td>79.75</td>\n",
              "      <td>74.043672</td>\n",
              "      <td>AAPL</td>\n",
              "    </tr>\n",
              "    <tr>\n",
              "      <th>3</th>\n",
              "      <td>2020-02-18</td>\n",
              "      <td>30 Stocks Moving in Tuesday's Pre-Market Session</td>\n",
              "      <td>Gainers Senmiao Technology Limited (NASDAQ:AIH...</td>\n",
              "      <td>[gainers, senmiao, technology, limited, (nasda...</td>\n",
              "      <td>[gainers, senmiao, technology, limited, (nasda...</td>\n",
              "      <td>[-0.026318086414659412, 0.04042497831580705, -...</td>\n",
              "      <td>79.75</td>\n",
              "      <td>74.043672</td>\n",
              "      <td>AAPL</td>\n",
              "    </tr>\n",
              "    <tr>\n",
              "      <th>4</th>\n",
              "      <td>2020-02-18</td>\n",
              "      <td>EU Rejects Facebook Proposal On Content Modera...</td>\n",
              "      <td>Facebook Inc.’s (NASDAQ:FB) proposed framework...</td>\n",
              "      <td>[facebook, inc.’s, (nasdaq:fb), proposed, fram...</td>\n",
              "      <td>[facebook, inc.’s, (nasdaq:fb), proposed, fram...</td>\n",
              "      <td>[-0.033064978968368824, 0.06496041013910243, 0...</td>\n",
              "      <td>79.75</td>\n",
              "      <td>74.043672</td>\n",
              "      <td>AAPL</td>\n",
              "    </tr>\n",
              "    <tr>\n",
              "      <th>...</th>\n",
              "      <td>...</td>\n",
              "      <td>...</td>\n",
              "      <td>...</td>\n",
              "      <td>...</td>\n",
              "      <td>...</td>\n",
              "      <td>...</td>\n",
              "      <td>...</td>\n",
              "      <td>...</td>\n",
              "      <td>...</td>\n",
              "    </tr>\n",
              "    <tr>\n",
              "      <th>6621</th>\n",
              "      <td>2024-03-24</td>\n",
              "      <td>NaN</td>\n",
              "      <td>NaN</td>\n",
              "      <td>NaN</td>\n",
              "      <td>NaN</td>\n",
              "      <td>NaN</td>\n",
              "      <td>NaN</td>\n",
              "      <td>161.638114</td>\n",
              "      <td>AAPL</td>\n",
              "    </tr>\n",
              "    <tr>\n",
              "      <th>6622</th>\n",
              "      <td>2024-03-25</td>\n",
              "      <td>NaN</td>\n",
              "      <td>NaN</td>\n",
              "      <td>NaN</td>\n",
              "      <td>NaN</td>\n",
              "      <td>NaN</td>\n",
              "      <td>NaN</td>\n",
              "      <td>161.025396</td>\n",
              "      <td>AAPL</td>\n",
              "    </tr>\n",
              "    <tr>\n",
              "      <th>6623</th>\n",
              "      <td>2024-03-26</td>\n",
              "      <td>NaN</td>\n",
              "      <td>NaN</td>\n",
              "      <td>NaN</td>\n",
              "      <td>NaN</td>\n",
              "      <td>NaN</td>\n",
              "      <td>NaN</td>\n",
              "      <td>161.070085</td>\n",
              "      <td>AAPL</td>\n",
              "    </tr>\n",
              "    <tr>\n",
              "      <th>6624</th>\n",
              "      <td>2024-03-27</td>\n",
              "      <td>NaN</td>\n",
              "      <td>NaN</td>\n",
              "      <td>NaN</td>\n",
              "      <td>NaN</td>\n",
              "      <td>NaN</td>\n",
              "      <td>NaN</td>\n",
              "      <td>161.185748</td>\n",
              "      <td>AAPL</td>\n",
              "    </tr>\n",
              "    <tr>\n",
              "      <th>6625</th>\n",
              "      <td>2024-03-28</td>\n",
              "      <td>NaN</td>\n",
              "      <td>NaN</td>\n",
              "      <td>NaN</td>\n",
              "      <td>NaN</td>\n",
              "      <td>NaN</td>\n",
              "      <td>NaN</td>\n",
              "      <td>161.163512</td>\n",
              "      <td>AAPL</td>\n",
              "    </tr>\n",
              "  </tbody>\n",
              "</table>\n",
              "<p>6626 rows × 9 columns</p>\n",
              "</div>\n",
              "      <button class=\"colab-df-convert\" onclick=\"convertToInteractive('df-affb376e-190f-4fd4-a1ca-87fb46d09de1')\"\n",
              "              title=\"Convert this dataframe to an interactive table.\"\n",
              "              style=\"display:none;\">\n",
              "        \n",
              "  <svg xmlns=\"http://www.w3.org/2000/svg\" height=\"24px\"viewBox=\"0 0 24 24\"\n",
              "       width=\"24px\">\n",
              "    <path d=\"M0 0h24v24H0V0z\" fill=\"none\"/>\n",
              "    <path d=\"M18.56 5.44l.94 2.06.94-2.06 2.06-.94-2.06-.94-.94-2.06-.94 2.06-2.06.94zm-11 1L8.5 8.5l.94-2.06 2.06-.94-2.06-.94L8.5 2.5l-.94 2.06-2.06.94zm10 10l.94 2.06.94-2.06 2.06-.94-2.06-.94-.94-2.06-.94 2.06-2.06.94z\"/><path d=\"M17.41 7.96l-1.37-1.37c-.4-.4-.92-.59-1.43-.59-.52 0-1.04.2-1.43.59L10.3 9.45l-7.72 7.72c-.78.78-.78 2.05 0 2.83L4 21.41c.39.39.9.59 1.41.59.51 0 1.02-.2 1.41-.59l7.78-7.78 2.81-2.81c.8-.78.8-2.07 0-2.86zM5.41 20L4 18.59l7.72-7.72 1.47 1.35L5.41 20z\"/>\n",
              "  </svg>\n",
              "      </button>\n",
              "      \n",
              "  <style>\n",
              "    .colab-df-container {\n",
              "      display:flex;\n",
              "      flex-wrap:wrap;\n",
              "      gap: 12px;\n",
              "    }\n",
              "\n",
              "    .colab-df-convert {\n",
              "      background-color: #E8F0FE;\n",
              "      border: none;\n",
              "      border-radius: 50%;\n",
              "      cursor: pointer;\n",
              "      display: none;\n",
              "      fill: #1967D2;\n",
              "      height: 32px;\n",
              "      padding: 0 0 0 0;\n",
              "      width: 32px;\n",
              "    }\n",
              "\n",
              "    .colab-df-convert:hover {\n",
              "      background-color: #E2EBFA;\n",
              "      box-shadow: 0px 1px 2px rgba(60, 64, 67, 0.3), 0px 1px 3px 1px rgba(60, 64, 67, 0.15);\n",
              "      fill: #174EA6;\n",
              "    }\n",
              "\n",
              "    [theme=dark] .colab-df-convert {\n",
              "      background-color: #3B4455;\n",
              "      fill: #D2E3FC;\n",
              "    }\n",
              "\n",
              "    [theme=dark] .colab-df-convert:hover {\n",
              "      background-color: #434B5C;\n",
              "      box-shadow: 0px 1px 3px 1px rgba(0, 0, 0, 0.15);\n",
              "      filter: drop-shadow(0px 1px 2px rgba(0, 0, 0, 0.3));\n",
              "      fill: #FFFFFF;\n",
              "    }\n",
              "  </style>\n",
              "\n",
              "      <script>\n",
              "        const buttonEl =\n",
              "          document.querySelector('#df-affb376e-190f-4fd4-a1ca-87fb46d09de1 button.colab-df-convert');\n",
              "        buttonEl.style.display =\n",
              "          google.colab.kernel.accessAllowed ? 'block' : 'none';\n",
              "\n",
              "        async function convertToInteractive(key) {\n",
              "          const element = document.querySelector('#df-affb376e-190f-4fd4-a1ca-87fb46d09de1');\n",
              "          const dataTable =\n",
              "            await google.colab.kernel.invokeFunction('convertToInteractive',\n",
              "                                                     [key], {});\n",
              "          if (!dataTable) return;\n",
              "\n",
              "          const docLinkHtml = 'Like what you see? Visit the ' +\n",
              "            '<a target=\"_blank\" href=https://colab.research.google.com/notebooks/data_table.ipynb>data table notebook</a>'\n",
              "            + ' to learn more about interactive tables.';\n",
              "          element.innerHTML = '';\n",
              "          dataTable['output_type'] = 'display_data';\n",
              "          await google.colab.output.renderOutput(dataTable, element);\n",
              "          const docLink = document.createElement('div');\n",
              "          docLink.innerHTML = docLinkHtml;\n",
              "          element.appendChild(docLink);\n",
              "        }\n",
              "      </script>\n",
              "    </div>\n",
              "  </div>\n",
              "  "
            ]
          },
          "metadata": {},
          "execution_count": 41
        }
      ]
    },
    {
      "cell_type": "code",
      "source": [
        "# output the full dataframe to csv\n",
        "# full_data_prediction.to_csv('NLP Data with predicted Stock Price')"
      ],
      "metadata": {
        "id": "wg3HLtlpPUo6"
      },
      "execution_count": null,
      "outputs": []
    }
  ],
  "metadata": {
    "colab": {
      "provenance": []
    },
    "kernelspec": {
      "display_name": "Python 3 (ipykernel)",
      "language": "python",
      "name": "python3"
    },
    "language_info": {
      "codemirror_mode": {
        "name": "ipython",
        "version": 3
      },
      "file_extension": ".py",
      "mimetype": "text/x-python",
      "name": "python",
      "nbconvert_exporter": "python",
      "pygments_lexer": "ipython3",
      "version": "3.10.9"
    }
  },
  "nbformat": 4,
  "nbformat_minor": 0
}