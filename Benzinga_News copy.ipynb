{
  "cells": [
    {
      "cell_type": "code",
      "execution_count": 2,
      "id": "XRiHVi5wvdLX",
      "metadata": {
        "colab": {
          "base_uri": "https://localhost:8080/"
        },
        "id": "XRiHVi5wvdLX",
        "outputId": "2433eeb3-da03-4e3a-a102-cbc6ef0d022b"
      },
      "outputs": [
        {
          "name": "stdout",
          "output_type": "stream",
          "text": [
            "Looking in indexes: https://pypi.org/simple, https://us-python.pkg.dev/colab-wheels/public/simple/\n",
            "Collecting benzinga\n",
            "  Downloading benzinga-1.21.tar.gz (10 kB)\n",
            "  Preparing metadata (setup.py) ... \u001b[?25l\u001b[?25hdone\n",
            "Requirement already satisfied: requests in /usr/local/lib/python3.10/dist-packages (from benzinga) (2.27.1)\n",
            "Collecting structlog\n",
            "  Downloading structlog-23.1.0-py3-none-any.whl (62 kB)\n",
            "\u001b[2K     \u001b[90m━━━━━━━━━━━━━━━━━━━━━━━━━━━━━━━━━━━━━━━━\u001b[0m \u001b[32m62.4/62.4 kB\u001b[0m \u001b[31m3.0 MB/s\u001b[0m eta \u001b[36m0:00:00\u001b[0m\n",
            "\u001b[?25hCollecting urllib3==1.25.10\n",
            "  Downloading urllib3-1.25.10-py2.py3-none-any.whl (127 kB)\n",
            "\u001b[2K     \u001b[90m━━━━━━━━━━━━━━━━━━━━━━━━━━━━━━━━━━━━━━━\u001b[0m \u001b[32m127.6/127.6 kB\u001b[0m \u001b[31m3.8 MB/s\u001b[0m eta \u001b[36m0:00:00\u001b[0m\n",
            "\u001b[?25hRequirement already satisfied: certifi>=2017.4.17 in /usr/local/lib/python3.10/dist-packages (from requests->benzinga) (2022.12.7)\n",
            "Requirement already satisfied: charset-normalizer~=2.0.0 in /usr/local/lib/python3.10/dist-packages (from requests->benzinga) (2.0.12)\n",
            "Requirement already satisfied: idna<4,>=2.5 in /usr/local/lib/python3.10/dist-packages (from requests->benzinga) (3.4)\n",
            "Building wheels for collected packages: benzinga\n",
            "  Building wheel for benzinga (setup.py) ... \u001b[?25l\u001b[?25hdone\n",
            "  Created wheel for benzinga: filename=benzinga-1.21-py3-none-any.whl size=12231 sha256=de0aeb3a23dcc7e406bf1422a56f9b14aaf5ffcfee707d3782077dfd2f57b4ed\n",
            "  Stored in directory: /root/.cache/pip/wheels/54/90/98/31c6b9e221854508d3ffa6ebf3d155bcd49c211d3f52341b84\n",
            "Successfully built benzinga\n",
            "Installing collected packages: urllib3, structlog, benzinga\n",
            "  Attempting uninstall: urllib3\n",
            "    Found existing installation: urllib3 1.26.15\n",
            "    Uninstalling urllib3-1.26.15:\n",
            "      Successfully uninstalled urllib3-1.26.15\n",
            "Successfully installed benzinga-1.21 structlog-23.1.0 urllib3-1.25.10\n"
          ]
        }
      ],
      "source": [
        "!pip install benzinga"
      ]
    },
    {
      "cell_type": "code",
      "execution_count": 7,
      "id": "ebce4e70-8755-45b9-9e35-721a649fcfcb",
      "metadata": {
        "id": "ebce4e70-8755-45b9-9e35-721a649fcfcb"
      },
      "outputs": [],
      "source": [
        "from benzinga import financial_data\n",
        "from benzinga import news_data\n",
        "\n",
        "import pandas as pd\n",
        "import numpy as np\n",
        "import json\n",
        "import inspect\n",
        "import datetime"
      ]
    },
    {
      "cell_type": "code",
      "execution_count": 8,
      "id": "ad394b1b-ebe4-42b2-a0d2-5df0ca835882",
      "metadata": {
        "id": "ad394b1b-ebe4-42b2-a0d2-5df0ca835882"
      },
      "outputs": [],
      "source": [
        "api_key = \"\"\n",
        "news = news_data.News(api_key)"
      ]
    },
    {
      "cell_type": "code",
      "execution_count": null,
      "id": "8cf054bb-3818-4742-b2ea-d4c188c17d16",
      "metadata": {
        "id": "8cf054bb-3818-4742-b2ea-d4c188c17d16"
      },
      "outputs": [],
      "source": [
        "# Optional:\n",
        "# pagesize (int) - default is 15\n",
        "# page (int) - default is 0\n",
        "# display_output (str) - select from (full, abstract, headline)\n",
        "# base_date (str) - \"YYYY-MM-DD\" The date to query for calendar data. Shorthand for date_from and date_to if they are the same. Defaults for latest.\n",
        "# date_from (str) - \"YYYY-MM-DD\"\n",
        "# date_to (str) - \"YYYY-MM-DD\"\n",
        "# last_id (str) - The last ID to start paging from and sorted by and sorted by the last updated date.\n",
        "# updated_since (str) - he last updated unix timestamp (UTC) to pull and sort by.\n",
        "# publish_since (str) - The last publish unix timestamp (UTC) to pull and sort by.\n",
        "# company_tickers (str)\n",
        "# channel (str) - multiple channels separated by comma."
      ]
    },
    {
      "cell_type": "code",
      "execution_count": 5,
      "id": "017a6915-6117-4a4d-b6b8-f981e00dccc3",
      "metadata": {
        "id": "017a6915-6117-4a4d-b6b8-f981e00dccc3"
      },
      "outputs": [],
      "source": [
        "# The maximum output of the API call is 100 stories in one call.\n",
        "# While loop that takes acount of from and to date, and loop until it gets all the dates we need\n",
        "# Concat it into a new dataframe, return the dataframe\n",
        "\n",
        "def benzinga_call(ticker, fromdate, todate):\n",
        "    stories = news.news(display_output = 'full', company_tickers = ticker, pagesize = 100, date_from = fromdate, date_to = todate)\n",
        "    df = pd.DataFrame(stories)\n",
        "    df['created'] = pd.to_datetime(df['created']).dt.date\n",
        "    fromdate = (df.iloc[-1,2] - datetime.timedelta(days=1)).strftime('%Y-%m-%d')\n",
        "    \n",
        "    one_month_be4_todate = (datetime.datetime.strptime(todate, '%Y-%m-%d') - datetime.timedelta(days=30)).strftime('%Y-%m-%d')\n",
        "    while fromdate < one_month_be4_todate:\n",
        "        stories = news.news(display_output = 'full', company_tickers = ticker, pagesize = 100, date_from = fromdate, date_to = todate)\n",
        "        stories_df = pd.DataFrame(stories)\n",
        "        stories_df['created'] = pd.to_datetime(stories_df['created']).dt.date\n",
        "        df = pd.concat([df,stories_df]).drop_duplicates(subset=['id']).reset_index(drop=True)\n",
        "        fromdate = (df.iloc[-1,2] - datetime.timedelta(days=1)).strftime('%Y-%m-%d')\n",
        "    return df"
      ]
    },
    {
      "cell_type": "code",
      "execution_count": 6,
      "id": "ebcae955-a014-458b-840f-27c9cd9505dd",
      "metadata": {
        "colab": {
          "base_uri": "https://localhost:8080/"
        },
        "id": "ebcae955-a014-458b-840f-27c9cd9505dd",
        "outputId": "3353fce6-a344-441d-b123-785906081554"
      },
      "outputs": [
        {
          "name": "stdout",
          "output_type": "stream",
          "text": [
            "2023-05-01 06:38:59 [info     ] Status Code: 200 Endpoint: http://api.benzinga.com/api/v2/news/?token=318da1f2bee64e3caf1c22dfb78f70d1&pageSize=100&displayOutput=full&dateFrom=2020-02-18&dateTo=2023-02-18&tickers=AAPL\n",
            "2023-05-01 06:39:00 [info     ] Status Code: 200 Endpoint: http://api.benzinga.com/api/v2/news/?token=318da1f2bee64e3caf1c22dfb78f70d1&pageSize=100&displayOutput=full&dateFrom=2020-03-14&dateTo=2023-02-18&tickers=AAPL\n",
            "2023-05-01 06:39:00 [info     ] Status Code: 200 Endpoint: http://api.benzinga.com/api/v2/news/?token=318da1f2bee64e3caf1c22dfb78f70d1&pageSize=100&displayOutput=full&dateFrom=2020-05-04&dateTo=2023-02-18&tickers=AAPL\n",
            "2023-05-01 06:39:01 [info     ] Status Code: 200 Endpoint: http://api.benzinga.com/api/v2/news/?token=318da1f2bee64e3caf1c22dfb78f70d1&pageSize=100&displayOutput=full&dateFrom=2020-06-22&dateTo=2023-02-18&tickers=AAPL\n",
            "2023-05-01 06:39:02 [info     ] Status Code: 200 Endpoint: http://api.benzinga.com/api/v2/news/?token=318da1f2bee64e3caf1c22dfb78f70d1&pageSize=100&displayOutput=full&dateFrom=2020-07-30&dateTo=2023-02-18&tickers=AAPL\n",
            "2023-05-01 06:39:03 [info     ] Status Code: 200 Endpoint: http://api.benzinga.com/api/v2/news/?token=318da1f2bee64e3caf1c22dfb78f70d1&pageSize=100&displayOutput=full&dateFrom=2020-08-30&dateTo=2023-02-18&tickers=AAPL\n",
            "2023-05-01 06:39:03 [info     ] Status Code: 200 Endpoint: http://api.benzinga.com/api/v2/news/?token=318da1f2bee64e3caf1c22dfb78f70d1&pageSize=100&displayOutput=full&dateFrom=2020-10-05&dateTo=2023-02-18&tickers=AAPL\n",
            "2023-05-01 06:39:04 [info     ] Status Code: 200 Endpoint: http://api.benzinga.com/api/v2/news/?token=318da1f2bee64e3caf1c22dfb78f70d1&pageSize=100&displayOutput=full&dateFrom=2020-11-04&dateTo=2023-02-18&tickers=AAPL\n",
            "2023-05-01 06:39:04 [info     ] Status Code: 200 Endpoint: http://api.benzinga.com/api/v2/news/?token=318da1f2bee64e3caf1c22dfb78f70d1&pageSize=100&displayOutput=full&dateFrom=2020-12-13&dateTo=2023-02-18&tickers=AAPL\n",
            "2023-05-01 06:39:05 [info     ] Status Code: 200 Endpoint: http://api.benzinga.com/api/v2/news/?token=318da1f2bee64e3caf1c22dfb78f70d1&pageSize=100&displayOutput=full&dateFrom=2021-01-11&dateTo=2023-02-18&tickers=AAPL\n",
            "2023-05-01 06:39:05 [info     ] Status Code: 200 Endpoint: http://api.benzinga.com/api/v2/news/?token=318da1f2bee64e3caf1c22dfb78f70d1&pageSize=100&displayOutput=full&dateFrom=2021-02-06&dateTo=2023-02-18&tickers=AAPL\n",
            "2023-05-01 06:39:05 [info     ] Status Code: 200 Endpoint: http://api.benzinga.com/api/v2/news/?token=318da1f2bee64e3caf1c22dfb78f70d1&pageSize=100&displayOutput=full&dateFrom=2021-03-08&dateTo=2023-02-18&tickers=AAPL\n",
            "2023-05-01 06:39:06 [info     ] Status Code: 200 Endpoint: http://api.benzinga.com/api/v2/news/?token=318da1f2bee64e3caf1c22dfb78f70d1&pageSize=100&displayOutput=full&dateFrom=2021-03-23&dateTo=2023-02-18&tickers=AAPL\n",
            "2023-05-01 06:39:07 [info     ] Status Code: 200 Endpoint: http://api.benzinga.com/api/v2/news/?token=318da1f2bee64e3caf1c22dfb78f70d1&pageSize=100&displayOutput=full&dateFrom=2021-04-12&dateTo=2023-02-18&tickers=AAPL\n",
            "2023-05-01 06:39:07 [info     ] Status Code: 200 Endpoint: http://api.benzinga.com/api/v2/news/?token=318da1f2bee64e3caf1c22dfb78f70d1&pageSize=100&displayOutput=full&dateFrom=2021-04-27&dateTo=2023-02-18&tickers=AAPL\n",
            "2023-05-01 06:39:08 [info     ] Status Code: 200 Endpoint: http://api.benzinga.com/api/v2/news/?token=318da1f2bee64e3caf1c22dfb78f70d1&pageSize=100&displayOutput=full&dateFrom=2021-05-19&dateTo=2023-02-18&tickers=AAPL\n",
            "2023-05-01 06:39:09 [info     ] Status Code: 200 Endpoint: http://api.benzinga.com/api/v2/news/?token=318da1f2bee64e3caf1c22dfb78f70d1&pageSize=100&displayOutput=full&dateFrom=2021-06-13&dateTo=2023-02-18&tickers=AAPL\n",
            "2023-05-01 06:39:09 [info     ] Status Code: 200 Endpoint: http://api.benzinga.com/api/v2/news/?token=318da1f2bee64e3caf1c22dfb78f70d1&pageSize=100&displayOutput=full&dateFrom=2021-07-07&dateTo=2023-02-18&tickers=AAPL\n",
            "2023-05-01 06:39:10 [info     ] Status Code: 200 Endpoint: http://api.benzinga.com/api/v2/news/?token=318da1f2bee64e3caf1c22dfb78f70d1&pageSize=100&displayOutput=full&dateFrom=2021-07-22&dateTo=2023-02-18&tickers=AAPL\n",
            "2023-05-01 06:39:10 [info     ] Status Code: 200 Endpoint: http://api.benzinga.com/api/v2/news/?token=318da1f2bee64e3caf1c22dfb78f70d1&pageSize=100&displayOutput=full&dateFrom=2021-08-05&dateTo=2023-02-18&tickers=AAPL\n",
            "2023-05-01 06:39:10 [info     ] Status Code: 200 Endpoint: http://api.benzinga.com/api/v2/news/?token=318da1f2bee64e3caf1c22dfb78f70d1&pageSize=100&displayOutput=full&dateFrom=2021-08-23&dateTo=2023-02-18&tickers=AAPL\n",
            "2023-05-01 06:39:11 [info     ] Status Code: 200 Endpoint: http://api.benzinga.com/api/v2/news/?token=318da1f2bee64e3caf1c22dfb78f70d1&pageSize=100&displayOutput=full&dateFrom=2021-09-03&dateTo=2023-02-18&tickers=AAPL\n",
            "2023-05-01 06:39:11 [info     ] Status Code: 200 Endpoint: http://api.benzinga.com/api/v2/news/?token=318da1f2bee64e3caf1c22dfb78f70d1&pageSize=100&displayOutput=full&dateFrom=2021-09-16&dateTo=2023-02-18&tickers=AAPL\n",
            "2023-05-01 06:39:11 [info     ] Status Code: 200 Endpoint: http://api.benzinga.com/api/v2/news/?token=318da1f2bee64e3caf1c22dfb78f70d1&pageSize=100&displayOutput=full&dateFrom=2021-10-04&dateTo=2023-02-18&tickers=AAPL\n",
            "2023-05-01 06:39:11 [info     ] Status Code: 200 Endpoint: http://api.benzinga.com/api/v2/news/?token=318da1f2bee64e3caf1c22dfb78f70d1&pageSize=100&displayOutput=full&dateFrom=2021-10-20&dateTo=2023-02-18&tickers=AAPL\n",
            "2023-05-01 06:39:12 [info     ] Status Code: 200 Endpoint: http://api.benzinga.com/api/v2/news/?token=318da1f2bee64e3caf1c22dfb78f70d1&pageSize=100&displayOutput=full&dateFrom=2021-11-04&dateTo=2023-02-18&tickers=AAPL\n",
            "2023-05-01 06:39:12 [info     ] Status Code: 200 Endpoint: http://api.benzinga.com/api/v2/news/?token=318da1f2bee64e3caf1c22dfb78f70d1&pageSize=100&displayOutput=full&dateFrom=2021-11-22&dateTo=2023-02-18&tickers=AAPL\n",
            "2023-05-01 06:39:12 [info     ] Status Code: 200 Endpoint: http://api.benzinga.com/api/v2/news/?token=318da1f2bee64e3caf1c22dfb78f70d1&pageSize=100&displayOutput=full&dateFrom=2021-12-13&dateTo=2023-02-18&tickers=AAPL\n",
            "2023-05-01 06:39:13 [info     ] Status Code: 200 Endpoint: http://api.benzinga.com/api/v2/news/?token=318da1f2bee64e3caf1c22dfb78f70d1&pageSize=100&displayOutput=full&dateFrom=2022-01-06&dateTo=2023-02-18&tickers=AAPL\n",
            "2023-05-01 06:39:13 [info     ] Status Code: 200 Endpoint: http://api.benzinga.com/api/v2/news/?token=318da1f2bee64e3caf1c22dfb78f70d1&pageSize=100&displayOutput=full&dateFrom=2022-01-28&dateTo=2023-02-18&tickers=AAPL\n",
            "2023-05-01 06:39:14 [info     ] Status Code: 200 Endpoint: http://api.benzinga.com/api/v2/news/?token=318da1f2bee64e3caf1c22dfb78f70d1&pageSize=100&displayOutput=full&dateFrom=2022-02-13&dateTo=2023-02-18&tickers=AAPL\n",
            "2023-05-01 06:39:14 [info     ] Status Code: 200 Endpoint: http://api.benzinga.com/api/v2/news/?token=318da1f2bee64e3caf1c22dfb78f70d1&pageSize=100&displayOutput=full&dateFrom=2022-03-08&dateTo=2023-02-18&tickers=AAPL\n",
            "2023-05-01 06:39:14 [info     ] Status Code: 200 Endpoint: http://api.benzinga.com/api/v2/news/?token=318da1f2bee64e3caf1c22dfb78f70d1&pageSize=100&displayOutput=full&dateFrom=2022-03-22&dateTo=2023-02-18&tickers=AAPL\n",
            "2023-05-01 06:39:15 [info     ] Status Code: 200 Endpoint: http://api.benzinga.com/api/v2/news/?token=318da1f2bee64e3caf1c22dfb78f70d1&pageSize=100&displayOutput=full&dateFrom=2022-04-05&dateTo=2023-02-18&tickers=AAPL\n",
            "2023-05-01 06:39:15 [info     ] Status Code: 200 Endpoint: http://api.benzinga.com/api/v2/news/?token=318da1f2bee64e3caf1c22dfb78f70d1&pageSize=100&displayOutput=full&dateFrom=2022-04-24&dateTo=2023-02-18&tickers=AAPL\n",
            "2023-05-01 06:39:15 [info     ] Status Code: 200 Endpoint: http://api.benzinga.com/api/v2/news/?token=318da1f2bee64e3caf1c22dfb78f70d1&pageSize=100&displayOutput=full&dateFrom=2022-05-08&dateTo=2023-02-18&tickers=AAPL\n",
            "2023-05-01 06:39:16 [info     ] Status Code: 200 Endpoint: http://api.benzinga.com/api/v2/news/?token=318da1f2bee64e3caf1c22dfb78f70d1&pageSize=100&displayOutput=full&dateFrom=2022-05-24&dateTo=2023-02-18&tickers=AAPL\n",
            "2023-05-01 06:39:16 [info     ] Status Code: 200 Endpoint: http://api.benzinga.com/api/v2/news/?token=318da1f2bee64e3caf1c22dfb78f70d1&pageSize=100&displayOutput=full&dateFrom=2022-06-07&dateTo=2023-02-18&tickers=AAPL\n",
            "2023-05-01 06:39:16 [info     ] Status Code: 200 Endpoint: http://api.benzinga.com/api/v2/news/?token=318da1f2bee64e3caf1c22dfb78f70d1&pageSize=100&displayOutput=full&dateFrom=2022-06-24&dateTo=2023-02-18&tickers=AAPL\n",
            "2023-05-01 06:39:16 [info     ] Status Code: 200 Endpoint: http://api.benzinga.com/api/v2/news/?token=318da1f2bee64e3caf1c22dfb78f70d1&pageSize=100&displayOutput=full&dateFrom=2022-07-17&dateTo=2023-02-18&tickers=AAPL\n",
            "2023-05-01 06:39:17 [info     ] Status Code: 200 Endpoint: http://api.benzinga.com/api/v2/news/?token=318da1f2bee64e3caf1c22dfb78f70d1&pageSize=100&displayOutput=full&dateFrom=2022-07-28&dateTo=2023-02-18&tickers=AAPL\n",
            "2023-05-01 06:39:17 [info     ] Status Code: 200 Endpoint: http://api.benzinga.com/api/v2/news/?token=318da1f2bee64e3caf1c22dfb78f70d1&pageSize=100&displayOutput=full&dateFrom=2022-08-11&dateTo=2023-02-18&tickers=AAPL\n",
            "2023-05-01 06:39:17 [info     ] Status Code: 200 Endpoint: http://api.benzinga.com/api/v2/news/?token=318da1f2bee64e3caf1c22dfb78f70d1&pageSize=100&displayOutput=full&dateFrom=2022-08-29&dateTo=2023-02-18&tickers=AAPL\n",
            "2023-05-01 06:39:18 [info     ] Status Code: 200 Endpoint: http://api.benzinga.com/api/v2/news/?token=318da1f2bee64e3caf1c22dfb78f70d1&pageSize=100&displayOutput=full&dateFrom=2022-09-08&dateTo=2023-02-18&tickers=AAPL\n",
            "2023-05-01 06:39:18 [info     ] Status Code: 200 Endpoint: http://api.benzinga.com/api/v2/news/?token=318da1f2bee64e3caf1c22dfb78f70d1&pageSize=100&displayOutput=full&dateFrom=2022-09-19&dateTo=2023-02-18&tickers=AAPL\n",
            "2023-05-01 06:39:19 [info     ] Status Code: 200 Endpoint: http://api.benzinga.com/api/v2/news/?token=318da1f2bee64e3caf1c22dfb78f70d1&pageSize=100&displayOutput=full&dateFrom=2022-10-03&dateTo=2023-02-18&tickers=AAPL\n",
            "2023-05-01 06:39:19 [info     ] Status Code: 200 Endpoint: http://api.benzinga.com/api/v2/news/?token=318da1f2bee64e3caf1c22dfb78f70d1&pageSize=100&displayOutput=full&dateFrom=2022-10-16&dateTo=2023-02-18&tickers=AAPL\n",
            "2023-05-01 06:39:19 [info     ] Status Code: 200 Endpoint: http://api.benzinga.com/api/v2/news/?token=318da1f2bee64e3caf1c22dfb78f70d1&pageSize=100&displayOutput=full&dateFrom=2022-10-26&dateTo=2023-02-18&tickers=AAPL\n",
            "2023-05-01 06:39:20 [info     ] Status Code: 200 Endpoint: http://api.benzinga.com/api/v2/news/?token=318da1f2bee64e3caf1c22dfb78f70d1&pageSize=100&displayOutput=full&dateFrom=2022-11-04&dateTo=2023-02-18&tickers=AAPL\n",
            "2023-05-01 06:39:20 [info     ] Status Code: 200 Endpoint: http://api.benzinga.com/api/v2/news/?token=318da1f2bee64e3caf1c22dfb78f70d1&pageSize=100&displayOutput=full&dateFrom=2022-11-15&dateTo=2023-02-18&tickers=AAPL\n",
            "2023-05-01 06:39:20 [info     ] Status Code: 200 Endpoint: http://api.benzinga.com/api/v2/news/?token=318da1f2bee64e3caf1c22dfb78f70d1&pageSize=100&displayOutput=full&dateFrom=2022-11-28&dateTo=2023-02-18&tickers=AAPL\n",
            "2023-05-01 06:39:21 [info     ] Status Code: 200 Endpoint: http://api.benzinga.com/api/v2/news/?token=318da1f2bee64e3caf1c22dfb78f70d1&pageSize=100&displayOutput=full&dateFrom=2022-12-06&dateTo=2023-02-18&tickers=AAPL\n",
            "2023-05-01 06:39:21 [info     ] Status Code: 200 Endpoint: http://api.benzinga.com/api/v2/news/?token=318da1f2bee64e3caf1c22dfb78f70d1&pageSize=100&displayOutput=full&dateFrom=2022-12-21&dateTo=2023-02-18&tickers=AAPL\n",
            "2023-05-01 06:39:21 [info     ] Status Code: 200 Endpoint: http://api.benzinga.com/api/v2/news/?token=318da1f2bee64e3caf1c22dfb78f70d1&pageSize=100&displayOutput=full&dateFrom=2023-01-08&dateTo=2023-02-18&tickers=AAPL\n"
          ]
        }
      ],
      "source": [
        "# Assign values to the function's parameters\n",
        "ticker = 'AAPL'\n",
        "fromdate = \"2020-02-18\"\n",
        "todate = \"2023-02-18\"\n",
        "df = benzinga_call(ticker, fromdate, todate)"
      ]
    },
    {
      "cell_type": "code",
      "execution_count": null,
      "id": "22b62e6b-0969-4ebb-bbdd-3b97160719c7",
      "metadata": {
        "id": "22b62e6b-0969-4ebb-bbdd-3b97160719c7"
      },
      "outputs": [],
      "source": [
        "df"
      ]
    },
    {
      "cell_type": "code",
      "execution_count": null,
      "id": "f7283a2d-8255-4000-be4e-bc31ce241859",
      "metadata": {
        "id": "f7283a2d-8255-4000-be4e-bc31ce241859"
      },
      "outputs": [],
      "source": [
        "# output the dataframe\n",
        "df.to_csv('AAPL_benzinga_2020_to_2023.csv', index=False)"
      ]
    }
  ],
  "metadata": {
    "colab": {
      "provenance": []
    },
    "kernelspec": {
      "display_name": "Python 3",
      "language": "python",
      "name": "python3"
    },
    "language_info": {
      "codemirror_mode": {
        "name": "ipython",
        "version": 3
      },
      "file_extension": ".py",
      "mimetype": "text/x-python",
      "name": "python",
      "nbconvert_exporter": "python",
      "pygments_lexer": "ipython3",
      "version": "3.9.10"
    }
  },
  "nbformat": 4,
  "nbformat_minor": 5
}
